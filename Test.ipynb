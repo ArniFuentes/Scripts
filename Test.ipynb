{
 "cells": [
  {
   "cell_type": "code",
   "execution_count": 28,
   "metadata": {},
   "outputs": [],
   "source": [
    "import pandas as pd\n",
    "import matplotlib.pyplot as plt\n",
    "import seaborn as sns\n"
   ]
  },
  {
   "cell_type": "code",
   "execution_count": 29,
   "metadata": {},
   "outputs": [],
   "source": [
    "def crear_tabla(variable_agrupamiento):\n",
    "\n",
    "    df_no_cumple = df[df.Cumplimiento == 'No Cumple']\n",
    "    df_no_cumple_group_dia = pd.DataFrame(\n",
    "        df_no_cumple.groupby(by=variable_agrupamiento).Cumplimiento.count()\n",
    "    ).sort_values(by='Cumplimiento', ascending=False)\n",
    "\n",
    "    df_no_cumple_group_dia['Total_incumplimientos'] = df_no_cumple.Cumplimiento.count(\n",
    "    )\n",
    "    df_no_cumple_group_dia['Porcentaje_incumplimiento'] = (\n",
    "        df_no_cumple_group_dia.Cumplimiento /\n",
    "        df_no_cumple_group_dia.Total_incumplimientos\n",
    "    ) * 100\n",
    "\n",
    "    # Devuelve la tabla\n",
    "    return round(df_no_cumple_group_dia[['Porcentaje_incumplimiento']].sort_values(\n",
    "        by='Porcentaje_incumplimiento',\n",
    "        ascending=False\n",
    "    )).head(10)\n"
   ]
  },
  {
   "cell_type": "code",
   "execution_count": 30,
   "metadata": {},
   "outputs": [],
   "source": [
    "df = pd.read_excel('Datos/información.xlsx', sheet_name='info')\n"
   ]
  },
  {
   "cell_type": "code",
   "execution_count": 31,
   "metadata": {},
   "outputs": [
    {
     "name": "stdout",
     "output_type": "stream",
     "text": [
      "<class 'pandas.core.frame.DataFrame'>\n",
      "RangeIndex: 5410 entries, 0 to 5409\n",
      "Data columns (total 9 columns):\n",
      " #   Column          Non-Null Count  Dtype \n",
      "---  ------          --------------  ----- \n",
      " 0   job_id          5410 non-null   int64 \n",
      " 1   Local           5410 non-null   int64 \n",
      " 2   job_state       5410 non-null   object\n",
      " 3   Comuna          5404 non-null   object\n",
      " 4   fleet_name      4993 non-null   object\n",
      " 5   Fecha_Creacion  5410 non-null   object\n",
      " 6   Fecha_Asignado  4575 non-null   object\n",
      " 7   Fecha_Exito     4973 non-null   object\n",
      " 8   Conductor       4993 non-null   object\n",
      "dtypes: int64(2), object(7)\n",
      "memory usage: 380.5+ KB\n"
     ]
    }
   ],
   "source": [
    "df.info()\n"
   ]
  },
  {
   "cell_type": "code",
   "execution_count": 32,
   "metadata": {},
   "outputs": [],
   "source": [
    "df[\"Conductor\"] = df[\"Conductor\"].fillna('Sin Nombre')\n"
   ]
  },
  {
   "cell_type": "code",
   "execution_count": 33,
   "metadata": {},
   "outputs": [],
   "source": [
    "df['Fecha_Creacion'] = pd.to_datetime(df['Fecha_Creacion'])\n",
    "df['Fecha_Exito'] = pd.to_datetime(df['Fecha_Exito'])\n"
   ]
  },
  {
   "cell_type": "code",
   "execution_count": 34,
   "metadata": {},
   "outputs": [
    {
     "name": "stdout",
     "output_type": "stream",
     "text": [
      "<class 'pandas.core.frame.DataFrame'>\n",
      "RangeIndex: 5410 entries, 0 to 5409\n",
      "Data columns (total 9 columns):\n",
      " #   Column          Non-Null Count  Dtype         \n",
      "---  ------          --------------  -----         \n",
      " 0   job_id          5410 non-null   int64         \n",
      " 1   Local           5410 non-null   int64         \n",
      " 2   job_state       5410 non-null   object        \n",
      " 3   Comuna          5404 non-null   object        \n",
      " 4   fleet_name      4993 non-null   object        \n",
      " 5   Fecha_Creacion  5410 non-null   datetime64[ns]\n",
      " 6   Fecha_Asignado  4575 non-null   object        \n",
      " 7   Fecha_Exito     4973 non-null   datetime64[ns]\n",
      " 8   Conductor       5410 non-null   object        \n",
      "dtypes: datetime64[ns](2), int64(2), object(5)\n",
      "memory usage: 380.5+ KB\n"
     ]
    }
   ],
   "source": [
    "df.info()\n"
   ]
  },
  {
   "cell_type": "code",
   "execution_count": 35,
   "metadata": {},
   "outputs": [],
   "source": [
    "df['Fecha_Creacion_Día'] = df['Fecha_Creacion'].dt.day\n",
    "df['Fecha_Creacion_Hora'] = df['Fecha_Creacion'].dt.hour\n",
    "df['Fecha_Exito_Día'] = df['Fecha_Exito'].dt.day\n"
   ]
  },
  {
   "cell_type": "code",
   "execution_count": 36,
   "metadata": {},
   "outputs": [],
   "source": [
    "lista = []\n",
    "\n",
    "\n",
    "for x, y, z in zip(df.Fecha_Creacion_Día, df.Fecha_Creacion_Hora, df.Fecha_Exito_Día):\n",
    "    if y < 11 and z == x:\n",
    "        lista.append(\"Cumple\")\n",
    "    elif y >= 11 and z == x:\n",
    "        lista.append(\"Cumple\")\n",
    "    elif y >= 11 and z == x + 1:\n",
    "        lista.append(\"Cumple\")\n",
    "    else:\n",
    "        lista.append(\"No Cumple\")\n",
    "\n",
    "\n",
    "df['Cumplimiento'] = pd.Series(lista)\n"
   ]
  },
  {
   "cell_type": "code",
   "execution_count": 37,
   "metadata": {},
   "outputs": [],
   "source": [
    "df_agrupado_dia = df.groupby(by='Fecha_Creacion_Día').Cumplimiento.count()\n"
   ]
  },
  {
   "cell_type": "code",
   "execution_count": 38,
   "metadata": {},
   "outputs": [],
   "source": [
    "df_cumple = df[df.Cumplimiento == 'Cumple']\n",
    "df_cumple_agrupado_dia = df_cumple.groupby(\n",
    "    by='Fecha_Creacion_Día'\n",
    ").Cumplimiento.count()\n"
   ]
  },
  {
   "cell_type": "code",
   "execution_count": 39,
   "metadata": {},
   "outputs": [],
   "source": [
    "cumplimiento_dia = (df_cumple_agrupado_dia / df_agrupado_dia) * 100\n"
   ]
  },
  {
   "cell_type": "markdown",
   "metadata": {},
   "source": [
    "### La siguiente tabla muestra el cumplimiento (en porcentaje) de los tiempos de entrega por día, durante octubre de 2021."
   ]
  },
  {
   "cell_type": "code",
   "execution_count": 40,
   "metadata": {},
   "outputs": [
    {
     "data": {
      "text/html": [
       "<div>\n",
       "<style scoped>\n",
       "    .dataframe tbody tr th:only-of-type {\n",
       "        vertical-align: middle;\n",
       "    }\n",
       "\n",
       "    .dataframe tbody tr th {\n",
       "        vertical-align: top;\n",
       "    }\n",
       "\n",
       "    .dataframe thead th {\n",
       "        text-align: right;\n",
       "    }\n",
       "</style>\n",
       "<table border=\"1\" class=\"dataframe\">\n",
       "  <thead>\n",
       "    <tr style=\"text-align: right;\">\n",
       "      <th></th>\n",
       "      <th>Cumplimiento</th>\n",
       "    </tr>\n",
       "    <tr>\n",
       "      <th>Fecha_Creacion_Día</th>\n",
       "      <th></th>\n",
       "    </tr>\n",
       "  </thead>\n",
       "  <tbody>\n",
       "    <tr>\n",
       "      <th>26</th>\n",
       "      <td>92.0</td>\n",
       "    </tr>\n",
       "    <tr>\n",
       "      <th>25</th>\n",
       "      <td>89.0</td>\n",
       "    </tr>\n",
       "    <tr>\n",
       "      <th>22</th>\n",
       "      <td>88.0</td>\n",
       "    </tr>\n",
       "    <tr>\n",
       "      <th>21</th>\n",
       "      <td>85.0</td>\n",
       "    </tr>\n",
       "    <tr>\n",
       "      <th>23</th>\n",
       "      <td>80.0</td>\n",
       "    </tr>\n",
       "    <tr>\n",
       "      <th>24</th>\n",
       "      <td>76.0</td>\n",
       "    </tr>\n",
       "    <tr>\n",
       "      <th>27</th>\n",
       "      <td>52.0</td>\n",
       "    </tr>\n",
       "    <tr>\n",
       "      <th>28</th>\n",
       "      <td>0.0</td>\n",
       "    </tr>\n",
       "  </tbody>\n",
       "</table>\n",
       "</div>"
      ],
      "text/plain": [
       "                    Cumplimiento\n",
       "Fecha_Creacion_Día              \n",
       "26                          92.0\n",
       "25                          89.0\n",
       "22                          88.0\n",
       "21                          85.0\n",
       "23                          80.0\n",
       "24                          76.0\n",
       "27                          52.0\n",
       "28                           0.0"
      ]
     },
     "execution_count": 40,
     "metadata": {},
     "output_type": "execute_result"
    }
   ],
   "source": [
    "porcentaje_cumplimiento_dia = pd.DataFrame(round(cumplimiento_dia.fillna(0))).sort_values(\n",
    "    by='Cumplimiento', ascending=False\n",
    ")\n",
    "\n",
    "porcentaje_cumplimiento_dia\n"
   ]
  },
  {
   "cell_type": "code",
   "execution_count": 41,
   "metadata": {},
   "outputs": [
    {
     "name": "stderr",
     "output_type": "stream",
     "text": [
      "c:\\Users\\arnif\\anaconda3\\lib\\site-packages\\seaborn\\_decorators.py:36: FutureWarning: Pass the following variables as keyword args: x, y. From version 0.12, the only valid positional argument will be `data`, and passing other arguments without an explicit keyword will result in an error or misinterpretation.\n",
      "  warnings.warn(\n"
     ]
    },
    {
     "data": {
      "image/png": "[encoded data removed]",
      "text/plain": [
       "<Figure size 720x360 with 1 Axes>"
      ]
     },
     "metadata": {
      "needs_background": "light"
     },
     "output_type": "display_data"
    }
   ],
   "source": [
    "x = porcentaje_cumplimiento_dia.index\n",
    "y = porcentaje_cumplimiento_dia.Cumplimiento\n",
    "\n",
    "plt.figure(figsize=(10, 5))\n",
    "# NOTA: tanto x como y siempre van de menor a mayor evidentemente\n",
    "sns.barplot(x, y, order=x, color=\"blue\")\n",
    "\n",
    "for i, g in enumerate(y):\n",
    "    plt.text(i-0.15, g+1, f'{g}', color='black', fontsize=14)\n",
    "\n",
    "\n",
    "font1 = {'family': 'serif', 'color': 'black', 'size': 15}\n",
    "\n",
    "plt.title(\n",
    "    'Cumplimiento (en porcentaje) de los tiempos de entrega por día',\n",
    "    fontdict=font1,\n",
    "    loc='left'\n",
    ")\n",
    "\n",
    "plt.xlabel('Día', fontdict=font1)\n",
    "plt.ylabel('% de Cumplimiento', fontdict=font1)\n",
    "# Quita el margen superior\n",
    "sns.despine()\n"
   ]
  },
  {
   "cell_type": "markdown",
   "metadata": {},
   "source": [
    "### Se puede ver que los mayores porcentajes de cumplimiento de los tiempos de entrega ocurrieron los días 26, 25 y 22 de octubre de 2021. En sentido contrario, los dos días donde el cumplimiento fue más bajo fueron el 27 y 28, en este último, se logró un cero por ciento de cumplimiento de los tiempos de entrega."
   ]
  },
  {
   "cell_type": "markdown",
   "metadata": {},
   "source": []
  },
  {
   "cell_type": "markdown",
   "metadata": {},
   "source": [
    "### La tabla de abajo expone los incumplimientos de tiempo de entrega asociado a repartidores."
   ]
  },
  {
   "cell_type": "code",
   "execution_count": 42,
   "metadata": {},
   "outputs": [
    {
     "data": {
      "text/html": [
       "<div>\n",
       "<style scoped>\n",
       "    .dataframe tbody tr th:only-of-type {\n",
       "        vertical-align: middle;\n",
       "    }\n",
       "\n",
       "    .dataframe tbody tr th {\n",
       "        vertical-align: top;\n",
       "    }\n",
       "\n",
       "    .dataframe thead th {\n",
       "        text-align: right;\n",
       "    }\n",
       "</style>\n",
       "<table border=\"1\" class=\"dataframe\">\n",
       "  <thead>\n",
       "    <tr style=\"text-align: right;\">\n",
       "      <th></th>\n",
       "      <th>Porcentaje_incumplimiento</th>\n",
       "    </tr>\n",
       "    <tr>\n",
       "      <th>Conductor</th>\n",
       "      <th></th>\n",
       "    </tr>\n",
       "  </thead>\n",
       "  <tbody>\n",
       "    <tr>\n",
       "      <th>Sin Nombre</th>\n",
       "      <td>43.0</td>\n",
       "    </tr>\n",
       "    <tr>\n",
       "      <th>repartidor76</th>\n",
       "      <td>3.0</td>\n",
       "    </tr>\n",
       "    <tr>\n",
       "      <th>repartidor88</th>\n",
       "      <td>3.0</td>\n",
       "    </tr>\n",
       "    <tr>\n",
       "      <th>repartidor86</th>\n",
       "      <td>3.0</td>\n",
       "    </tr>\n",
       "    <tr>\n",
       "      <th>repartidor60</th>\n",
       "      <td>2.0</td>\n",
       "    </tr>\n",
       "    <tr>\n",
       "      <th>repartidor80</th>\n",
       "      <td>2.0</td>\n",
       "    </tr>\n",
       "    <tr>\n",
       "      <th>repartidor79</th>\n",
       "      <td>2.0</td>\n",
       "    </tr>\n",
       "    <tr>\n",
       "      <th>repartidor20</th>\n",
       "      <td>2.0</td>\n",
       "    </tr>\n",
       "    <tr>\n",
       "      <th>repartidor78</th>\n",
       "      <td>2.0</td>\n",
       "    </tr>\n",
       "    <tr>\n",
       "      <th>repartidor82</th>\n",
       "      <td>2.0</td>\n",
       "    </tr>\n",
       "  </tbody>\n",
       "</table>\n",
       "</div>"
      ],
      "text/plain": [
       "              Porcentaje_incumplimiento\n",
       "Conductor                              \n",
       "Sin Nombre                         43.0\n",
       "repartidor76                        3.0\n",
       "repartidor88                        3.0\n",
       "repartidor86                        3.0\n",
       "repartidor60                        2.0\n",
       "repartidor80                        2.0\n",
       "repartidor79                        2.0\n",
       "repartidor20                        2.0\n",
       "repartidor78                        2.0\n",
       "repartidor82                        2.0"
      ]
     },
     "execution_count": 42,
     "metadata": {},
     "output_type": "execute_result"
    }
   ],
   "source": [
    "crear_tabla('Conductor')\n"
   ]
  },
  {
   "cell_type": "code",
   "execution_count": 43,
   "metadata": {},
   "outputs": [
    {
     "data": {
      "image/png": "[encoded data removed]",
      "text/plain": [
       "<Figure size 720x288 with 1 Axes>"
      ]
     },
     "metadata": {
      "needs_background": "light"
     },
     "output_type": "display_data"
    }
   ],
   "source": [
    "x_nombre = crear_tabla('Conductor').head().index\n",
    "y_incumplimiento = crear_tabla('Conductor').Porcentaje_incumplimiento.head()\n",
    "\n",
    "plt.figure(figsize=(10, 4))\n",
    "# NOTA: tanto x como y siempre van de menor a mayor evidentemente\n",
    "sns.barplot(x=x_nombre, y=y_incumplimiento, order=x_nombre, color=\"red\")\n",
    "plt.xticks(rotation=60)\n",
    "\n",
    "for i, g in enumerate(y_incumplimiento):\n",
    "    plt.text(i, g+1, f'{g}', color='black', fontsize=14)\n",
    "\n",
    "plt.xlabel('Conductor', fontdict=font1)\n",
    "plt.ylabel('Porcentaje incumplimiento', fontdict=font1)\n",
    "# Quita el margen superior\n",
    "sns.despine()\n"
   ]
  },
  {
   "cell_type": "markdown",
   "metadata": {},
   "source": [
    "### Se observa que un 43% de las ocurrencias de casos fallidos de cumplimiento de los tiempos de entrega no tienen el nombre del repartidor encargado del pedido. \n",
    "\n"
   ]
  },
  {
   "cell_type": "code",
   "execution_count": 44,
   "metadata": {},
   "outputs": [
    {
     "data": {
      "text/html": [
       "<div>\n",
       "<style scoped>\n",
       "    .dataframe tbody tr th:only-of-type {\n",
       "        vertical-align: middle;\n",
       "    }\n",
       "\n",
       "    .dataframe tbody tr th {\n",
       "        vertical-align: top;\n",
       "    }\n",
       "\n",
       "    .dataframe thead th {\n",
       "        text-align: right;\n",
       "    }\n",
       "</style>\n",
       "<table border=\"1\" class=\"dataframe\">\n",
       "  <thead>\n",
       "    <tr style=\"text-align: right;\">\n",
       "      <th></th>\n",
       "      <th>Porcentaje_incumplimiento</th>\n",
       "    </tr>\n",
       "    <tr>\n",
       "      <th>Local</th>\n",
       "      <th></th>\n",
       "    </tr>\n",
       "  </thead>\n",
       "  <tbody>\n",
       "    <tr>\n",
       "      <th>2</th>\n",
       "      <td>21.0</td>\n",
       "    </tr>\n",
       "    <tr>\n",
       "      <th>46</th>\n",
       "      <td>17.0</td>\n",
       "    </tr>\n",
       "    <tr>\n",
       "      <th>1129</th>\n",
       "      <td>14.0</td>\n",
       "    </tr>\n",
       "    <tr>\n",
       "      <th>1119</th>\n",
       "      <td>12.0</td>\n",
       "    </tr>\n",
       "    <tr>\n",
       "      <th>1121</th>\n",
       "      <td>9.0</td>\n",
       "    </tr>\n",
       "    <tr>\n",
       "      <th>1123</th>\n",
       "      <td>8.0</td>\n",
       "    </tr>\n",
       "    <tr>\n",
       "      <th>1114</th>\n",
       "      <td>4.0</td>\n",
       "    </tr>\n",
       "    <tr>\n",
       "      <th>1044</th>\n",
       "      <td>2.0</td>\n",
       "    </tr>\n",
       "    <tr>\n",
       "      <th>1120</th>\n",
       "      <td>2.0</td>\n",
       "    </tr>\n",
       "    <tr>\n",
       "      <th>793</th>\n",
       "      <td>2.0</td>\n",
       "    </tr>\n",
       "  </tbody>\n",
       "</table>\n",
       "</div>"
      ],
      "text/plain": [
       "       Porcentaje_incumplimiento\n",
       "Local                           \n",
       "2                           21.0\n",
       "46                          17.0\n",
       "1129                        14.0\n",
       "1119                        12.0\n",
       "1121                         9.0\n",
       "1123                         8.0\n",
       "1114                         4.0\n",
       "1044                         2.0\n",
       "1120                         2.0\n",
       "793                          2.0"
      ]
     },
     "execution_count": 44,
     "metadata": {},
     "output_type": "execute_result"
    }
   ],
   "source": [
    "crear_tabla('Local')\n"
   ]
  },
  {
   "cell_type": "markdown",
   "metadata": {},
   "source": [
    "### Por otra parte, los locales 2, 46, 1129, 1119 y 1121 se asocian a un 73% de los casos fallidos de cumplimiento de los tiempos de entrega.\n"
   ]
  },
  {
   "cell_type": "code",
   "execution_count": 45,
   "metadata": {},
   "outputs": [
    {
     "data": {
      "text/html": [
       "<div>\n",
       "<style scoped>\n",
       "    .dataframe tbody tr th:only-of-type {\n",
       "        vertical-align: middle;\n",
       "    }\n",
       "\n",
       "    .dataframe tbody tr th {\n",
       "        vertical-align: top;\n",
       "    }\n",
       "\n",
       "    .dataframe thead th {\n",
       "        text-align: right;\n",
       "    }\n",
       "</style>\n",
       "<table border=\"1\" class=\"dataframe\">\n",
       "  <thead>\n",
       "    <tr style=\"text-align: right;\">\n",
       "      <th></th>\n",
       "      <th>Porcentaje_incumplimiento</th>\n",
       "    </tr>\n",
       "    <tr>\n",
       "      <th>Comuna</th>\n",
       "      <th></th>\n",
       "    </tr>\n",
       "  </thead>\n",
       "  <tbody>\n",
       "    <tr>\n",
       "      <th>Santiago</th>\n",
       "      <td>7.0</td>\n",
       "    </tr>\n",
       "    <tr>\n",
       "      <th>Maipú</th>\n",
       "      <td>7.0</td>\n",
       "    </tr>\n",
       "    <tr>\n",
       "      <th>La Florida</th>\n",
       "      <td>7.0</td>\n",
       "    </tr>\n",
       "    <tr>\n",
       "      <th>Puente Alto</th>\n",
       "      <td>6.0</td>\n",
       "    </tr>\n",
       "    <tr>\n",
       "      <th>Ñuñoa</th>\n",
       "      <td>5.0</td>\n",
       "    </tr>\n",
       "    <tr>\n",
       "      <th>Las Condes</th>\n",
       "      <td>5.0</td>\n",
       "    </tr>\n",
       "    <tr>\n",
       "      <th>Providencia</th>\n",
       "      <td>4.0</td>\n",
       "    </tr>\n",
       "    <tr>\n",
       "      <th>San Bernardo</th>\n",
       "      <td>4.0</td>\n",
       "    </tr>\n",
       "    <tr>\n",
       "      <th>Pudahuel</th>\n",
       "      <td>3.0</td>\n",
       "    </tr>\n",
       "    <tr>\n",
       "      <th>Quilicura</th>\n",
       "      <td>2.0</td>\n",
       "    </tr>\n",
       "  </tbody>\n",
       "</table>\n",
       "</div>"
      ],
      "text/plain": [
       "              Porcentaje_incumplimiento\n",
       "Comuna                                 \n",
       "Santiago                            7.0\n",
       "Maipú                               7.0\n",
       "La Florida                          7.0\n",
       "Puente Alto                         6.0\n",
       "Ñuñoa                               5.0\n",
       "Las Condes                          5.0\n",
       "Providencia                         4.0\n",
       "San Bernardo                        4.0\n",
       "Pudahuel                            3.0\n",
       "Quilicura                           2.0"
      ]
     },
     "execution_count": 45,
     "metadata": {},
     "output_type": "execute_result"
    }
   ],
   "source": [
    "crear_tabla('Comuna')\n"
   ]
  },
  {
   "cell_type": "markdown",
   "metadata": {},
   "source": [
    "### Finalmente las comunas de Santiago, Maipú, La Florida, Puente Alto, Ñuñoa y Las Condes se vinculan a un 37% de los incumplimientos de los tiempos de entrega.\n"
   ]
  }
 ],
 "metadata": {
  "kernelspec": {
   "display_name": "Python 3.9.12 ('base')",
   "language": "python",
   "name": "python3"
  },
  "language_info": {
   "codemirror_mode": {
    "name": "ipython",
    "version": 3
   },
   "file_extension": ".py",
   "mimetype": "text/x-python",
   "name": "python",
   "nbconvert_exporter": "python",
   "pygments_lexer": "ipython3",
   "version": "3.9.12"
  },
  "vscode": {
   "interpreter": {
    "hash": "a2efb759adcfad7add2278f6fe15d1d0493137c22d8087780c36c8e1d24a3dcf"
   }
  }
 },
 "nbformat": 4,
 "nbformat_minor": 2
}
